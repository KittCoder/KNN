{
 "cells": [
  {
   "attachments": {},
   "cell_type": "markdown",
   "metadata": {},
   "source": [
    "## Machine Learning \n",
    "#### K-Nearest Neighbors\n",
    "#### 06-05-2023"
   ]
  },
  {
   "cell_type": "code",
   "execution_count": 40,
   "metadata": {},
   "outputs": [],
   "source": [
    "import pandas as pd\n",
    "import matplotlib.pyplot as plt\n",
    "import numpy as np"
   ]
  },
  {
   "cell_type": "code",
   "execution_count": 41,
   "metadata": {},
   "outputs": [],
   "source": [
    "abalone = pd.read_csv('./data/abalone.data',header=None)"
   ]
  },
  {
   "cell_type": "code",
   "execution_count": 42,
   "metadata": {},
   "outputs": [
    {
     "data": {
      "text/html": [
       "<div>\n",
       "<style scoped>\n",
       "    .dataframe tbody tr th:only-of-type {\n",
       "        vertical-align: middle;\n",
       "    }\n",
       "\n",
       "    .dataframe tbody tr th {\n",
       "        vertical-align: top;\n",
       "    }\n",
       "\n",
       "    .dataframe thead th {\n",
       "        text-align: right;\n",
       "    }\n",
       "</style>\n",
       "<table border=\"1\" class=\"dataframe\">\n",
       "  <thead>\n",
       "    <tr style=\"text-align: right;\">\n",
       "      <th></th>\n",
       "      <th>0</th>\n",
       "      <th>1</th>\n",
       "      <th>2</th>\n",
       "      <th>3</th>\n",
       "      <th>4</th>\n",
       "      <th>5</th>\n",
       "      <th>6</th>\n",
       "      <th>7</th>\n",
       "      <th>8</th>\n",
       "    </tr>\n",
       "  </thead>\n",
       "  <tbody>\n",
       "    <tr>\n",
       "      <th>0</th>\n",
       "      <td>M</td>\n",
       "      <td>0.455</td>\n",
       "      <td>0.365</td>\n",
       "      <td>0.095</td>\n",
       "      <td>0.5140</td>\n",
       "      <td>0.2245</td>\n",
       "      <td>0.1010</td>\n",
       "      <td>0.1500</td>\n",
       "      <td>15</td>\n",
       "    </tr>\n",
       "    <tr>\n",
       "      <th>1</th>\n",
       "      <td>M</td>\n",
       "      <td>0.350</td>\n",
       "      <td>0.265</td>\n",
       "      <td>0.090</td>\n",
       "      <td>0.2255</td>\n",
       "      <td>0.0995</td>\n",
       "      <td>0.0485</td>\n",
       "      <td>0.0700</td>\n",
       "      <td>7</td>\n",
       "    </tr>\n",
       "    <tr>\n",
       "      <th>2</th>\n",
       "      <td>F</td>\n",
       "      <td>0.530</td>\n",
       "      <td>0.420</td>\n",
       "      <td>0.135</td>\n",
       "      <td>0.6770</td>\n",
       "      <td>0.2565</td>\n",
       "      <td>0.1415</td>\n",
       "      <td>0.2100</td>\n",
       "      <td>9</td>\n",
       "    </tr>\n",
       "    <tr>\n",
       "      <th>3</th>\n",
       "      <td>M</td>\n",
       "      <td>0.440</td>\n",
       "      <td>0.365</td>\n",
       "      <td>0.125</td>\n",
       "      <td>0.5160</td>\n",
       "      <td>0.2155</td>\n",
       "      <td>0.1140</td>\n",
       "      <td>0.1550</td>\n",
       "      <td>10</td>\n",
       "    </tr>\n",
       "    <tr>\n",
       "      <th>4</th>\n",
       "      <td>I</td>\n",
       "      <td>0.330</td>\n",
       "      <td>0.255</td>\n",
       "      <td>0.080</td>\n",
       "      <td>0.2050</td>\n",
       "      <td>0.0895</td>\n",
       "      <td>0.0395</td>\n",
       "      <td>0.0550</td>\n",
       "      <td>7</td>\n",
       "    </tr>\n",
       "    <tr>\n",
       "      <th>...</th>\n",
       "      <td>...</td>\n",
       "      <td>...</td>\n",
       "      <td>...</td>\n",
       "      <td>...</td>\n",
       "      <td>...</td>\n",
       "      <td>...</td>\n",
       "      <td>...</td>\n",
       "      <td>...</td>\n",
       "      <td>...</td>\n",
       "    </tr>\n",
       "    <tr>\n",
       "      <th>4172</th>\n",
       "      <td>F</td>\n",
       "      <td>0.565</td>\n",
       "      <td>0.450</td>\n",
       "      <td>0.165</td>\n",
       "      <td>0.8870</td>\n",
       "      <td>0.3700</td>\n",
       "      <td>0.2390</td>\n",
       "      <td>0.2490</td>\n",
       "      <td>11</td>\n",
       "    </tr>\n",
       "    <tr>\n",
       "      <th>4173</th>\n",
       "      <td>M</td>\n",
       "      <td>0.590</td>\n",
       "      <td>0.440</td>\n",
       "      <td>0.135</td>\n",
       "      <td>0.9660</td>\n",
       "      <td>0.4390</td>\n",
       "      <td>0.2145</td>\n",
       "      <td>0.2605</td>\n",
       "      <td>10</td>\n",
       "    </tr>\n",
       "    <tr>\n",
       "      <th>4174</th>\n",
       "      <td>M</td>\n",
       "      <td>0.600</td>\n",
       "      <td>0.475</td>\n",
       "      <td>0.205</td>\n",
       "      <td>1.1760</td>\n",
       "      <td>0.5255</td>\n",
       "      <td>0.2875</td>\n",
       "      <td>0.3080</td>\n",
       "      <td>9</td>\n",
       "    </tr>\n",
       "    <tr>\n",
       "      <th>4175</th>\n",
       "      <td>F</td>\n",
       "      <td>0.625</td>\n",
       "      <td>0.485</td>\n",
       "      <td>0.150</td>\n",
       "      <td>1.0945</td>\n",
       "      <td>0.5310</td>\n",
       "      <td>0.2610</td>\n",
       "      <td>0.2960</td>\n",
       "      <td>10</td>\n",
       "    </tr>\n",
       "    <tr>\n",
       "      <th>4176</th>\n",
       "      <td>M</td>\n",
       "      <td>0.710</td>\n",
       "      <td>0.555</td>\n",
       "      <td>0.195</td>\n",
       "      <td>1.9485</td>\n",
       "      <td>0.9455</td>\n",
       "      <td>0.3765</td>\n",
       "      <td>0.4950</td>\n",
       "      <td>12</td>\n",
       "    </tr>\n",
       "  </tbody>\n",
       "</table>\n",
       "<p>4177 rows × 9 columns</p>\n",
       "</div>"
      ],
      "text/plain": [
       "      0      1      2      3       4       5       6       7   8\n",
       "0     M  0.455  0.365  0.095  0.5140  0.2245  0.1010  0.1500  15\n",
       "1     M  0.350  0.265  0.090  0.2255  0.0995  0.0485  0.0700   7\n",
       "2     F  0.530  0.420  0.135  0.6770  0.2565  0.1415  0.2100   9\n",
       "3     M  0.440  0.365  0.125  0.5160  0.2155  0.1140  0.1550  10\n",
       "4     I  0.330  0.255  0.080  0.2050  0.0895  0.0395  0.0550   7\n",
       "...  ..    ...    ...    ...     ...     ...     ...     ...  ..\n",
       "4172  F  0.565  0.450  0.165  0.8870  0.3700  0.2390  0.2490  11\n",
       "4173  M  0.590  0.440  0.135  0.9660  0.4390  0.2145  0.2605  10\n",
       "4174  M  0.600  0.475  0.205  1.1760  0.5255  0.2875  0.3080   9\n",
       "4175  F  0.625  0.485  0.150  1.0945  0.5310  0.2610  0.2960  10\n",
       "4176  M  0.710  0.555  0.195  1.9485  0.9455  0.3765  0.4950  12\n",
       "\n",
       "[4177 rows x 9 columns]"
      ]
     },
     "execution_count": 42,
     "metadata": {},
     "output_type": "execute_result"
    }
   ],
   "source": [
    "abalone"
   ]
  },
  {
   "cell_type": "code",
   "execution_count": 43,
   "metadata": {},
   "outputs": [],
   "source": [
    "abalone.columns = ('Sex',\"Length\",\"Diameter\",\"Height\",\"Whole weight\",\"Shucked weight\",\"Viscera weight\",\"Shell weight\",\"Rings\")\n",
    "abalone = abalone.drop('Sex',axis=1)"
   ]
  },
  {
   "cell_type": "code",
   "execution_count": 44,
   "metadata": {},
   "outputs": [
    {
     "data": {
      "text/html": [
       "<div>\n",
       "<style scoped>\n",
       "    .dataframe tbody tr th:only-of-type {\n",
       "        vertical-align: middle;\n",
       "    }\n",
       "\n",
       "    .dataframe tbody tr th {\n",
       "        vertical-align: top;\n",
       "    }\n",
       "\n",
       "    .dataframe thead th {\n",
       "        text-align: right;\n",
       "    }\n",
       "</style>\n",
       "<table border=\"1\" class=\"dataframe\">\n",
       "  <thead>\n",
       "    <tr style=\"text-align: right;\">\n",
       "      <th></th>\n",
       "      <th>Length</th>\n",
       "      <th>Diameter</th>\n",
       "      <th>Height</th>\n",
       "      <th>Whole weight</th>\n",
       "      <th>Shucked weight</th>\n",
       "      <th>Viscera weight</th>\n",
       "      <th>Shell weight</th>\n",
       "      <th>Rings</th>\n",
       "    </tr>\n",
       "  </thead>\n",
       "  <tbody>\n",
       "    <tr>\n",
       "      <th>0</th>\n",
       "      <td>0.455</td>\n",
       "      <td>0.365</td>\n",
       "      <td>0.095</td>\n",
       "      <td>0.5140</td>\n",
       "      <td>0.2245</td>\n",
       "      <td>0.1010</td>\n",
       "      <td>0.1500</td>\n",
       "      <td>15</td>\n",
       "    </tr>\n",
       "    <tr>\n",
       "      <th>1</th>\n",
       "      <td>0.350</td>\n",
       "      <td>0.265</td>\n",
       "      <td>0.090</td>\n",
       "      <td>0.2255</td>\n",
       "      <td>0.0995</td>\n",
       "      <td>0.0485</td>\n",
       "      <td>0.0700</td>\n",
       "      <td>7</td>\n",
       "    </tr>\n",
       "    <tr>\n",
       "      <th>2</th>\n",
       "      <td>0.530</td>\n",
       "      <td>0.420</td>\n",
       "      <td>0.135</td>\n",
       "      <td>0.6770</td>\n",
       "      <td>0.2565</td>\n",
       "      <td>0.1415</td>\n",
       "      <td>0.2100</td>\n",
       "      <td>9</td>\n",
       "    </tr>\n",
       "    <tr>\n",
       "      <th>3</th>\n",
       "      <td>0.440</td>\n",
       "      <td>0.365</td>\n",
       "      <td>0.125</td>\n",
       "      <td>0.5160</td>\n",
       "      <td>0.2155</td>\n",
       "      <td>0.1140</td>\n",
       "      <td>0.1550</td>\n",
       "      <td>10</td>\n",
       "    </tr>\n",
       "    <tr>\n",
       "      <th>4</th>\n",
       "      <td>0.330</td>\n",
       "      <td>0.255</td>\n",
       "      <td>0.080</td>\n",
       "      <td>0.2050</td>\n",
       "      <td>0.0895</td>\n",
       "      <td>0.0395</td>\n",
       "      <td>0.0550</td>\n",
       "      <td>7</td>\n",
       "    </tr>\n",
       "    <tr>\n",
       "      <th>...</th>\n",
       "      <td>...</td>\n",
       "      <td>...</td>\n",
       "      <td>...</td>\n",
       "      <td>...</td>\n",
       "      <td>...</td>\n",
       "      <td>...</td>\n",
       "      <td>...</td>\n",
       "      <td>...</td>\n",
       "    </tr>\n",
       "    <tr>\n",
       "      <th>4172</th>\n",
       "      <td>0.565</td>\n",
       "      <td>0.450</td>\n",
       "      <td>0.165</td>\n",
       "      <td>0.8870</td>\n",
       "      <td>0.3700</td>\n",
       "      <td>0.2390</td>\n",
       "      <td>0.2490</td>\n",
       "      <td>11</td>\n",
       "    </tr>\n",
       "    <tr>\n",
       "      <th>4173</th>\n",
       "      <td>0.590</td>\n",
       "      <td>0.440</td>\n",
       "      <td>0.135</td>\n",
       "      <td>0.9660</td>\n",
       "      <td>0.4390</td>\n",
       "      <td>0.2145</td>\n",
       "      <td>0.2605</td>\n",
       "      <td>10</td>\n",
       "    </tr>\n",
       "    <tr>\n",
       "      <th>4174</th>\n",
       "      <td>0.600</td>\n",
       "      <td>0.475</td>\n",
       "      <td>0.205</td>\n",
       "      <td>1.1760</td>\n",
       "      <td>0.5255</td>\n",
       "      <td>0.2875</td>\n",
       "      <td>0.3080</td>\n",
       "      <td>9</td>\n",
       "    </tr>\n",
       "    <tr>\n",
       "      <th>4175</th>\n",
       "      <td>0.625</td>\n",
       "      <td>0.485</td>\n",
       "      <td>0.150</td>\n",
       "      <td>1.0945</td>\n",
       "      <td>0.5310</td>\n",
       "      <td>0.2610</td>\n",
       "      <td>0.2960</td>\n",
       "      <td>10</td>\n",
       "    </tr>\n",
       "    <tr>\n",
       "      <th>4176</th>\n",
       "      <td>0.710</td>\n",
       "      <td>0.555</td>\n",
       "      <td>0.195</td>\n",
       "      <td>1.9485</td>\n",
       "      <td>0.9455</td>\n",
       "      <td>0.3765</td>\n",
       "      <td>0.4950</td>\n",
       "      <td>12</td>\n",
       "    </tr>\n",
       "  </tbody>\n",
       "</table>\n",
       "<p>4177 rows × 8 columns</p>\n",
       "</div>"
      ],
      "text/plain": [
       "      Length  Diameter  Height  Whole weight  Shucked weight  Viscera weight  \\\n",
       "0      0.455     0.365   0.095        0.5140          0.2245          0.1010   \n",
       "1      0.350     0.265   0.090        0.2255          0.0995          0.0485   \n",
       "2      0.530     0.420   0.135        0.6770          0.2565          0.1415   \n",
       "3      0.440     0.365   0.125        0.5160          0.2155          0.1140   \n",
       "4      0.330     0.255   0.080        0.2050          0.0895          0.0395   \n",
       "...      ...       ...     ...           ...             ...             ...   \n",
       "4172   0.565     0.450   0.165        0.8870          0.3700          0.2390   \n",
       "4173   0.590     0.440   0.135        0.9660          0.4390          0.2145   \n",
       "4174   0.600     0.475   0.205        1.1760          0.5255          0.2875   \n",
       "4175   0.625     0.485   0.150        1.0945          0.5310          0.2610   \n",
       "4176   0.710     0.555   0.195        1.9485          0.9455          0.3765   \n",
       "\n",
       "      Shell weight  Rings  \n",
       "0           0.1500     15  \n",
       "1           0.0700      7  \n",
       "2           0.2100      9  \n",
       "3           0.1550     10  \n",
       "4           0.0550      7  \n",
       "...            ...    ...  \n",
       "4172        0.2490     11  \n",
       "4173        0.2605     10  \n",
       "4174        0.3080      9  \n",
       "4175        0.2960     10  \n",
       "4176        0.4950     12  \n",
       "\n",
       "[4177 rows x 8 columns]"
      ]
     },
     "execution_count": 44,
     "metadata": {},
     "output_type": "execute_result"
    }
   ],
   "source": [
    "abalone"
   ]
  },
  {
   "cell_type": "code",
   "execution_count": 45,
   "metadata": {},
   "outputs": [
    {
     "data": {
      "image/png": "[encoded data removed]",
      "text/plain": [
       "<Figure size 432x288 with 1 Axes>"
      ]
     },
     "metadata": {
      "needs_background": "light"
     },
     "output_type": "display_data"
    }
   ],
   "source": [
    "abalone['Rings'].hist(bins=15)\n",
    "plt.show()"
   ]
  },
  {
   "cell_type": "code",
   "execution_count": 46,
   "metadata": {},
   "outputs": [],
   "source": [
    "corr_matrix = abalone.corr()"
   ]
  },
  {
   "cell_type": "code",
   "execution_count": 47,
   "metadata": {},
   "outputs": [
    {
     "data": {
      "text/plain": [
       "Length            0.556720\n",
       "Diameter          0.574660\n",
       "Height            0.557467\n",
       "Whole weight      0.540390\n",
       "Shucked weight    0.420884\n",
       "Viscera weight    0.503819\n",
       "Shell weight      0.627574\n",
       "Rings             1.000000\n",
       "Name: Rings, dtype: float64"
      ]
     },
     "execution_count": 47,
     "metadata": {},
     "output_type": "execute_result"
    }
   ],
   "source": [
    "corr_matrix['Rings']"
   ]
  },
  {
   "cell_type": "code",
   "execution_count": 48,
   "metadata": {},
   "outputs": [],
   "source": [
    "X = abalone.drop('Rings', axis=1)\n",
    "X = X.values\n",
    "y = abalone['Rings']\n",
    "y = y.values"
   ]
  },
  {
   "cell_type": "code",
   "execution_count": 49,
   "metadata": {},
   "outputs": [
    {
     "data": {
      "text/plain": [
       "array([[0.455 , 0.365 , 0.095 , ..., 0.2245, 0.101 , 0.15  ],\n",
       "       [0.35  , 0.265 , 0.09  , ..., 0.0995, 0.0485, 0.07  ],\n",
       "       [0.53  , 0.42  , 0.135 , ..., 0.2565, 0.1415, 0.21  ],\n",
       "       ...,\n",
       "       [0.6   , 0.475 , 0.205 , ..., 0.5255, 0.2875, 0.308 ],\n",
       "       [0.625 , 0.485 , 0.15  , ..., 0.531 , 0.261 , 0.296 ],\n",
       "       [0.71  , 0.555 , 0.195 , ..., 0.9455, 0.3765, 0.495 ]])"
      ]
     },
     "execution_count": 49,
     "metadata": {},
     "output_type": "execute_result"
    }
   ],
   "source": [
    "X"
   ]
  },
  {
   "cell_type": "code",
   "execution_count": 50,
   "metadata": {},
   "outputs": [
    {
     "data": {
      "text/plain": [
       "array([15,  7,  9, ...,  9, 10, 12], dtype=int64)"
      ]
     },
     "execution_count": 50,
     "metadata": {},
     "output_type": "execute_result"
    }
   ],
   "source": [
    "y"
   ]
  },
  {
   "cell_type": "code",
   "execution_count": 51,
   "metadata": {},
   "outputs": [],
   "source": [
    "# pick a random set of rows and use them for training and testing\n",
    "# during training we are going to give the model answers\n",
    "# during testing we are not\n",
    "# finally, we are going to compare the data from the test to the actual data in y_test\n",
    "from sklearn.model_selection import train_test_split\n",
    "X_train,X_test,y_train,y_test = train_test_split(X,y,test_size=0.2,random_state=12345)"
   ]
  },
  {
   "cell_type": "code",
   "execution_count": 52,
   "metadata": {},
   "outputs": [
    {
     "data": {
      "text/plain": [
       "array([ 9, 17, 11, ...,  8, 14,  8], dtype=int64)"
      ]
     },
     "execution_count": 52,
     "metadata": {},
     "output_type": "execute_result"
    }
   ],
   "source": [
    "y_train"
   ]
  },
  {
   "cell_type": "code",
   "execution_count": 53,
   "metadata": {},
   "outputs": [
    {
     "data": {
      "text/plain": [
       "836"
      ]
     },
     "execution_count": 53,
     "metadata": {},
     "output_type": "execute_result"
    }
   ],
   "source": [
    "len(y_test)"
   ]
  },
  {
   "cell_type": "code",
   "execution_count": 55,
   "metadata": {},
   "outputs": [
    {
     "data": {
      "text/plain": [
       "KNeighborsRegressor(n_neighbors=3)"
      ]
     },
     "execution_count": 55,
     "metadata": {},
     "output_type": "execute_result"
    }
   ],
   "source": [
    "# instantiate the model and train it on my training data\n",
    "from sklearn.neighbors import KNeighborsRegressor\n",
    "knn_model = KNeighborsRegressor(n_neighbors=3)\n",
    "knn_model.fit(X_train, y_train)"
   ]
  },
  {
   "cell_type": "code",
   "execution_count": 56,
   "metadata": {},
   "outputs": [],
   "source": [
    "# now that we have a fit model, test it on my testing data\n",
    "test_preds = knn_model.predict(X_test)"
   ]
  },
  {
   "cell_type": "code",
   "execution_count": 57,
   "metadata": {},
   "outputs": [
    {
     "data": {
      "text/plain": [
       "array([15.66666667, 11.        ,  8.66666667, 11.66666667,  9.66666667,\n",
       "        9.66666667,  9.        ,  9.        , 11.66666667, 11.33333333,\n",
       "        8.33333333,  9.        , 14.66666667,  9.33333333, 14.        ,\n",
       "        9.33333333, 11.        , 10.        , 10.66666667, 15.66666667,\n",
       "       10.33333333,  7.33333333, 10.33333333, 10.66666667, 10.33333333,\n",
       "        8.33333333,  9.33333333,  8.33333333,  9.66666667, 14.        ,\n",
       "       11.33333333, 11.66666667, 13.        ,  9.66666667,  7.66666667,\n",
       "        9.66666667,  8.66666667,  6.33333333,  7.        ,  9.66666667,\n",
       "       12.        ,  9.        , 10.66666667, 18.        ,  8.        ,\n",
       "        9.66666667, 13.33333333,  9.66666667,  6.        ,  9.33333333,\n",
       "        9.66666667,  9.        , 11.66666667,  9.33333333,  9.        ,\n",
       "       12.66666667,  7.        , 11.33333333,  9.66666667, 10.33333333,\n",
       "       10.        ,  7.        ,  7.        , 10.        , 18.66666667,\n",
       "       12.        ,  9.66666667, 11.66666667,  8.66666667, 10.33333333,\n",
       "       10.        ,  8.        , 10.        , 11.66666667, 12.        ,\n",
       "       12.        ,  8.66666667, 10.        ,  9.66666667, 14.33333333,\n",
       "        8.33333333, 12.        , 11.        ,  6.66666667, 13.66666667,\n",
       "        8.66666667,  7.33333333,  9.66666667,  6.33333333,  8.66666667,\n",
       "       13.        ,  7.66666667, 14.        , 10.        ,  9.66666667,\n",
       "        7.66666667,  9.33333333, 10.        , 11.66666667, 11.        ,\n",
       "        9.        ,  9.33333333, 14.66666667, 13.        , 11.        ,\n",
       "        9.66666667,  8.66666667, 11.66666667, 10.66666667,  8.33333333,\n",
       "        8.66666667,  8.        ,  9.66666667, 10.66666667,  5.66666667,\n",
       "       13.33333333,  7.33333333,  9.66666667, 11.66666667,  7.        ,\n",
       "        7.33333333, 10.        , 10.33333333, 11.33333333,  8.66666667,\n",
       "        4.33333333,  6.33333333, 11.66666667,  6.66666667, 12.        ,\n",
       "        8.        , 12.33333333, 10.33333333,  6.        , 10.33333333,\n",
       "        7.66666667, 12.66666667,  5.        ,  6.33333333,  7.33333333,\n",
       "       13.        , 11.33333333,  8.66666667,  7.66666667, 11.        ,\n",
       "        9.66666667, 15.33333333,  7.66666667,  9.66666667,  6.33333333,\n",
       "       12.        ,  7.66666667, 10.        , 10.66666667,  5.        ,\n",
       "        9.33333333, 10.33333333,  9.        ,  6.66666667, 13.33333333,\n",
       "        9.66666667, 17.33333333, 12.66666667,  7.66666667, 11.66666667,\n",
       "       10.66666667,  9.66666667, 12.33333333, 10.        , 10.        ,\n",
       "        8.33333333,  8.66666667, 14.33333333, 10.66666667, 13.        ,\n",
       "       10.33333333, 14.33333333,  7.66666667,  7.        ,  8.33333333,\n",
       "       12.66666667, 11.33333333,  9.33333333, 11.        ,  6.66666667,\n",
       "        6.33333333, 12.33333333, 10.33333333, 11.        ,  7.66666667,\n",
       "       11.66666667,  7.        ,  3.33333333,  5.        , 10.33333333,\n",
       "        7.        , 11.66666667, 11.        ,  6.33333333,  9.33333333,\n",
       "       11.66666667,  9.        ,  9.        ,  7.66666667,  8.66666667,\n",
       "        5.        ,  9.33333333, 11.33333333, 12.        ,  7.33333333,\n",
       "       12.66666667,  7.        , 11.        , 10.33333333,  9.66666667,\n",
       "       18.33333333,  7.        ,  8.33333333, 10.66666667,  9.66666667,\n",
       "        8.33333333, 13.33333333,  8.33333333,  8.33333333,  7.66666667,\n",
       "       10.66666667, 10.66666667, 10.33333333, 10.33333333,  9.33333333,\n",
       "       15.        , 11.        , 11.        , 10.        ,  6.33333333,\n",
       "       11.        ,  8.        ,  6.        , 18.        ,  8.        ,\n",
       "       10.66666667,  9.66666667,  9.33333333, 10.        ,  7.66666667,\n",
       "        8.33333333, 16.        ,  9.33333333,  9.33333333, 11.        ,\n",
       "       10.66666667, 12.        , 14.66666667, 10.33333333,  8.        ,\n",
       "       14.        ,  9.33333333,  7.        , 10.        ,  9.66666667,\n",
       "       17.        ,  8.        ,  7.66666667, 10.        , 10.33333333,\n",
       "        9.33333333, 15.33333333,  8.        ,  9.33333333, 10.33333333,\n",
       "       10.66666667, 11.66666667,  9.33333333,  9.        ,  7.        ,\n",
       "        5.        , 11.66666667, 11.        , 12.        , 10.66666667,\n",
       "        8.33333333,  9.33333333,  8.        , 14.66666667, 13.66666667,\n",
       "       10.        ,  5.33333333,  8.33333333, 10.33333333,  5.        ,\n",
       "        4.66666667,  5.        ,  4.33333333, 12.33333333,  6.66666667,\n",
       "       10.33333333,  7.        ,  4.        ,  6.66666667,  4.33333333,\n",
       "        8.        ,  7.        ,  7.66666667, 10.        , 12.33333333,\n",
       "        8.        ,  7.66666667, 10.66666667, 11.33333333, 10.        ,\n",
       "        8.33333333,  9.        , 16.        , 10.        ,  8.33333333,\n",
       "       10.66666667, 11.33333333,  8.33333333, 10.        ,  8.33333333,\n",
       "       16.66666667, 11.        ,  6.33333333, 12.33333333, 11.33333333,\n",
       "       12.33333333,  7.        , 10.33333333,  9.66666667,  8.33333333,\n",
       "       14.        ,  8.66666667, 10.        ,  8.33333333,  6.66666667,\n",
       "        8.33333333, 10.66666667,  7.        ,  7.66666667,  7.        ,\n",
       "        8.        ,  3.33333333, 17.        , 13.33333333, 11.        ,\n",
       "       10.        ,  9.33333333,  6.33333333, 10.33333333, 11.        ,\n",
       "        3.33333333,  9.33333333, 11.33333333, 10.33333333,  8.        ,\n",
       "        9.33333333,  9.33333333,  9.33333333,  9.        , 10.        ,\n",
       "        9.66666667,  7.        ,  8.66666667,  7.66666667,  8.        ,\n",
       "        9.66666667,  8.        ,  6.66666667,  7.33333333,  6.        ,\n",
       "        5.66666667,  8.        , 13.        ,  8.66666667, 10.        ,\n",
       "        9.66666667,  7.        , 16.        ,  7.        ,  5.33333333,\n",
       "        9.33333333,  8.33333333, 10.33333333,  8.33333333, 11.        ,\n",
       "        8.33333333,  8.66666667,  9.66666667,  7.33333333,  9.        ,\n",
       "       12.        , 11.33333333, 11.33333333,  9.33333333,  5.33333333,\n",
       "       10.66666667, 10.66666667,  9.33333333,  8.        ,  7.33333333,\n",
       "       11.33333333, 14.66666667, 12.66666667,  9.66666667, 16.        ,\n",
       "        8.66666667,  7.        , 11.33333333, 12.33333333,  9.66666667,\n",
       "       11.33333333, 10.33333333, 11.        , 10.66666667,  9.33333333,\n",
       "       15.        , 14.        , 11.        ,  8.66666667, 10.66666667,\n",
       "        7.        , 14.66666667,  9.        , 11.33333333,  9.66666667,\n",
       "       19.66666667,  9.66666667,  7.33333333,  9.        , 14.66666667,\n",
       "        9.33333333,  5.33333333,  7.33333333,  4.33333333, 12.66666667,\n",
       "       14.66666667,  9.66666667,  4.66666667, 10.33333333,  9.        ,\n",
       "       15.66666667,  7.66666667, 11.        , 10.33333333,  9.        ,\n",
       "       15.        , 11.        , 11.        ,  4.33333333,  8.        ,\n",
       "        9.66666667, 18.        ,  9.66666667,  8.33333333,  7.        ,\n",
       "       10.        ,  9.66666667, 14.33333333, 14.66666667, 15.        ,\n",
       "       10.33333333,  8.33333333,  9.33333333, 10.33333333,  8.        ,\n",
       "        8.66666667,  9.        ,  7.66666667, 12.66666667, 14.        ,\n",
       "        9.33333333, 11.66666667, 16.        ,  6.        , 10.33333333,\n",
       "        8.66666667,  9.66666667, 13.33333333, 13.33333333, 13.        ,\n",
       "        8.33333333,  5.66666667,  9.66666667,  8.33333333,  8.        ,\n",
       "        6.33333333,  7.33333333, 13.        ,  7.        , 10.33333333,\n",
       "        5.        , 10.33333333,  9.66666667, 12.66666667, 11.        ,\n",
       "       10.        , 10.        ,  9.        ,  6.66666667, 12.33333333,\n",
       "       10.66666667, 10.66666667, 10.33333333, 14.66666667,  7.        ,\n",
       "       10.        , 11.33333333, 16.66666667,  8.66666667,  6.33333333,\n",
       "       15.        ,  7.33333333,  9.33333333, 11.33333333,  9.33333333,\n",
       "        8.33333333, 11.66666667, 11.66666667,  7.33333333,  6.66666667,\n",
       "       10.        ,  8.66666667,  7.66666667, 12.        ,  7.66666667,\n",
       "       10.66666667, 10.        , 16.        ,  8.33333333,  9.        ,\n",
       "        8.66666667,  8.        , 12.        ,  4.66666667,  7.        ,\n",
       "       11.66666667, 10.66666667,  8.66666667,  5.        , 10.66666667,\n",
       "       13.        ,  6.        ,  9.        , 14.33333333, 14.33333333,\n",
       "        6.66666667, 13.33333333, 10.        , 13.66666667,  9.33333333,\n",
       "       13.33333333, 10.        , 11.        ,  7.        ,  8.        ,\n",
       "       11.33333333,  9.        , 12.        , 11.66666667,  9.33333333,\n",
       "        9.66666667, 11.        , 12.66666667,  9.66666667,  7.        ,\n",
       "        7.66666667, 13.33333333, 12.66666667,  6.66666667,  7.66666667,\n",
       "       11.33333333,  9.33333333, 10.33333333,  7.33333333, 13.33333333,\n",
       "        8.        ,  7.66666667, 11.33333333,  8.33333333, 13.66666667,\n",
       "       11.        ,  8.33333333, 14.33333333,  4.33333333,  9.        ,\n",
       "       10.        ,  7.66666667,  9.33333333, 10.        ,  7.        ,\n",
       "        7.33333333, 11.66666667,  9.        ,  9.        , 10.33333333,\n",
       "       11.33333333,  7.        ,  9.66666667, 12.        ,  7.66666667,\n",
       "       14.        ,  9.33333333, 10.66666667, 11.        , 10.        ,\n",
       "       12.33333333,  9.33333333, 11.33333333,  9.33333333, 13.        ,\n",
       "       13.33333333,  9.66666667,  9.        , 10.        ,  7.66666667,\n",
       "       11.        ,  9.        ,  9.66666667, 11.33333333,  9.66666667,\n",
       "        8.33333333,  9.66666667,  6.66666667, 12.33333333, 10.        ,\n",
       "        4.        ,  8.66666667,  9.33333333, 16.        , 10.66666667,\n",
       "       12.33333333, 10.33333333,  7.66666667,  8.66666667, 16.33333333,\n",
       "       10.66666667, 12.66666667,  8.66666667,  7.        , 10.66666667,\n",
       "        7.33333333,  7.        ,  9.66666667, 12.        ,  6.33333333,\n",
       "       13.66666667, 13.66666667,  8.66666667, 16.66666667,  8.33333333,\n",
       "       11.33333333, 10.33333333, 14.66666667,  9.66666667, 14.        ,\n",
       "        4.33333333, 12.66666667,  5.66666667, 13.        , 12.66666667,\n",
       "        8.66666667, 12.        , 10.        ,  9.66666667,  8.33333333,\n",
       "        7.66666667,  9.        ,  8.66666667,  8.33333333, 16.33333333,\n",
       "        9.        , 12.        , 10.        ,  5.33333333,  7.33333333,\n",
       "        6.33333333, 12.        , 11.66666667, 10.        ,  8.33333333,\n",
       "       10.33333333, 11.33333333,  8.66666667, 13.66666667, 10.66666667,\n",
       "       14.33333333,  9.33333333, 10.66666667,  8.66666667, 10.        ,\n",
       "       10.66666667, 10.33333333,  9.33333333, 10.33333333,  7.        ,\n",
       "       11.33333333, 11.66666667, 12.        ,  8.33333333, 10.        ,\n",
       "        7.        , 11.        , 10.66666667, 11.33333333, 11.66666667,\n",
       "        7.33333333, 10.        ,  7.33333333, 11.        , 10.66666667,\n",
       "        8.66666667,  4.66666667, 11.33333333,  7.66666667,  7.        ,\n",
       "       12.        ,  9.        , 12.33333333,  8.        , 10.33333333,\n",
       "        8.66666667,  7.        , 12.66666667, 14.        ,  9.        ,\n",
       "       14.33333333, 10.66666667, 11.33333333, 15.33333333, 12.        ,\n",
       "       10.        , 14.66666667,  7.33333333, 11.66666667,  7.33333333,\n",
       "       10.        ,  8.        , 14.66666667,  6.33333333, 13.33333333,\n",
       "        6.        , 12.        , 10.66666667,  9.66666667, 15.33333333,\n",
       "        9.        ,  9.33333333,  5.33333333,  8.        , 10.        ,\n",
       "       11.33333333,  9.33333333, 11.        , 11.33333333,  9.        ,\n",
       "        8.33333333,  6.        , 11.33333333,  7.66666667, 10.33333333,\n",
       "       13.66666667,  6.        , 10.33333333, 10.        ,  9.        ,\n",
       "        9.        ,  8.66666667,  6.66666667,  7.33333333,  9.66666667,\n",
       "       11.66666667,  7.33333333,  8.        , 10.        , 13.        ,\n",
       "        6.66666667,  7.        ,  8.66666667,  8.        ,  9.        ,\n",
       "       10.        ,  7.        , 12.        , 10.33333333, 10.        ,\n",
       "       11.66666667, 10.33333333,  9.66666667,  9.33333333,  8.33333333,\n",
       "        7.        ,  7.66666667, 12.33333333, 11.66666667, 12.        ,\n",
       "        7.        , 10.        ,  9.        , 10.66666667, 11.66666667,\n",
       "       11.66666667, 11.33333333,  6.66666667,  6.33333333,  7.        ,\n",
       "       10.66666667, 12.        , 11.33333333,  8.66666667, 10.66666667,\n",
       "        9.66666667, 12.66666667,  4.66666667,  9.        ,  7.33333333,\n",
       "        7.66666667,  9.66666667,  8.        ,  7.        ,  8.66666667,\n",
       "       20.66666667, 11.        ,  8.33333333,  9.        ,  7.33333333,\n",
       "       11.66666667,  8.        , 12.66666667, 10.        ,  4.66666667,\n",
       "        7.66666667, 11.        , 12.        , 11.66666667, 14.66666667,\n",
       "       12.        ])"
      ]
     },
     "execution_count": 57,
     "metadata": {},
     "output_type": "execute_result"
    }
   ],
   "source": [
    "test_preds"
   ]
  },
  {
   "cell_type": "code",
   "execution_count": 62,
   "metadata": {},
   "outputs": [],
   "source": [
    "from sklearn.metrics import mean_squared_error\n",
    "from math import sqrt\n",
    "\n",
    "# to gauge how good our model is, we are going to use the root_mean_squared error\n",
    "# this gives us an average error\n",
    "mse = mean_squared_error(y_test,test_preds)\n",
    "mse = sqrt(mse)"
   ]
  },
  {
   "cell_type": "code",
   "execution_count": 61,
   "metadata": {},
   "outputs": [
    {
     "data": {
      "text/plain": [
       "2.375417924000521"
      ]
     },
     "execution_count": 61,
     "metadata": {},
     "output_type": "execute_result"
    }
   ],
   "source": [
    "mse"
   ]
  },
  {
   "cell_type": "code",
   "execution_count": null,
   "metadata": {},
   "outputs": [],
   "source": []
  }
 ],
 "metadata": {
  "kernelspec": {
   "display_name": "base",
   "language": "python",
   "name": "python3"
  },
  "language_info": {
   "codemirror_mode": {
    "name": "ipython",
    "version": 3
   },
   "file_extension": ".py",
   "mimetype": "text/x-python",
   "name": "python",
   "nbconvert_exporter": "python",
   "pygments_lexer": "ipython3",
   "version": "3.9.12"
  },
  "orig_nbformat": 4
 },
 "nbformat": 4,
 "nbformat_minor": 2
}
